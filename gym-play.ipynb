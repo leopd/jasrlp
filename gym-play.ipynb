{
 "cells": [
  {
   "cell_type": "code",
   "execution_count": 1,
   "metadata": {},
   "outputs": [],
   "source": [
    "import gym"
   ]
  },
  {
   "cell_type": "code",
   "execution_count": 2,
   "metadata": {},
   "outputs": [
    {
     "data": {
      "text/plain": [
       "<module 'rltrain' from '/Users/leodirac/dev/ddpg/rltrain.py'>"
      ]
     },
     "execution_count": 2,
     "metadata": {},
     "output_type": "execute_result"
    }
   ],
   "source": [
    "import rltrain\n",
    "from importlib import reload\n",
    "reload(rltrain)"
   ]
  },
  {
   "cell_type": "code",
   "execution_count": 3,
   "metadata": {},
   "outputs": [],
   "source": [
    "def rollout(env, learner, max_iter:int=1000):\n",
    "    env.reset()\n",
    "    obs_last = None\n",
    "    for _ in range(max_iter):\n",
    "        env.render()\n",
    "        action = learner.get_action()\n",
    "        obs, reward, is_done, info = env.step(action)\n",
    "        learner.record_transition(obs_last, action, obs, reward)\n",
    "        obs_last = obs\n",
    "        if is_done:\n",
    "            break\n",
    "    env.close()\n",
    "    \n",
    "env = gym.make('CartPole-v0')\n",
    "learner = rltrain.RandomLearner(env)\n",
    "rollout(env, learner)"
   ]
  },
  {
   "cell_type": "code",
   "execution_count": null,
   "metadata": {},
   "outputs": [],
   "source": []
  }
 ],
 "metadata": {
  "kernelspec": {
   "display_name": "Python 3",
   "language": "python",
   "name": "python3"
  },
  "language_info": {
   "codemirror_mode": {
    "name": "ipython",
    "version": 3
   },
   "file_extension": ".py",
   "mimetype": "text/x-python",
   "name": "python",
   "nbconvert_exporter": "python",
   "pygments_lexer": "ipython3",
   "version": "3.6.9"
  }
 },
 "nbformat": 4,
 "nbformat_minor": 2
}
